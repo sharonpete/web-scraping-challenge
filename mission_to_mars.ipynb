{
 "cells": [
  {
   "cell_type": "code",
   "execution_count": 114,
   "metadata": {},
   "outputs": [],
   "source": [
    "# import stuff here\n",
    "import requests\n",
    "from bs4 import BeautifulSoup"
   ]
  },
  {
   "cell_type": "code",
   "execution_count": 115,
   "metadata": {},
   "outputs": [
    {
     "data": {
      "text/plain": [
       "<Response [200]>"
      ]
     },
     "execution_count": 115,
     "metadata": {},
     "output_type": "execute_result"
    }
   ],
   "source": [
    "page = requests.get(\"https://redplanetscience.com/\")\n",
    "page"
   ]
  },
  {
   "cell_type": "code",
   "execution_count": 116,
   "metadata": {},
   "outputs": [
    {
     "name": "stdout",
     "output_type": "stream",
     "text": [
      "<!DOCTYPE html>\n",
      "<html>\n",
      " <head>\n",
      "  <meta charset=\"utf-8\"/>\n",
      "  <meta content=\"width=device-width, initial-scale=1\" name=\"viewport\"/>\n",
      "  <link crossorigin=\"anonymous\" href=\"https://cdn.jsdelivr.net/npm/bootstrap@5.0.0-beta1/dist/css/bootstrap.min.css\" integrity=\"sha384-giJF6kkoqNQ00vy+HMDP7azOuL0xtbfIcaT9wjKHr8RbDVddVHyTfAAsrekwKmP1\" rel=\"stylesheet\"/>\n",
      "  <link href=\"css/font.css\" rel=\"stylesheet\" type=\"text/css\"/>\n",
      "  <link href=\"css/app.css\" rel=\"stylesheet\" type=\"text/css\"/>\n",
      "  <link crossorigin=\"anonymous\" href=\"https://pro.fontawesome.com/releases/v5.10.0/css/all.css\" integrity=\"sha384-AYmEC3Yw5cVb3ZcuHtOA93w35dYTsvhLPVnYs9eStHfGJvOvKxVfELGroGkvsg+p\" rel=\"stylesheet\">\n",
      "   <title>\n",
      "    News - Mars Exploration Program\n",
      "   </title>\n",
      "  </link>\n",
      " </head>\n",
      " <body>\n",
      "  <div class=\"col-md-12\">\n",
      "   <div class=\"row\">\n",
      "    <nav class=\"navbar navbar-expand-lg navbar-light fixed-top\">\n",
      "     <div class=\"container-fluid\">\n",
      "      <a class=\"navbar-brand\" href=\"#\">\n",
      "       <img src=\"image/nasa.png\" width=\"80\"/>\n",
      "       <span class=\"logo\">\n",
      "        MARS Planet Science\n",
      "       </span>\n",
      "       <span class=\"logo1\">\n",
      "        Exploration Program\n",
      "       </span>\n",
      "      </a>\n",
      "      <button aria-controls=\"navbarNav\" aria-expanded=\"false\" aria-label=\"Toggle navigation\" class=\"navbar-toggler\" data-bs-target=\"#navbarNav\" data-bs-toggle=\"collapse\" type=\"button\">\n",
      "       <span class=\"navbar-toggler-icon\">\n",
      "       </span>\n",
      "      </button>\n",
      "      <div class=\"collapse navbar-collapse justify-content-end\" id=\"navbarNav\">\n",
      "       <ul class=\"navbar-nav\">\n",
      "        <li class=\"nav-item\">\n",
      "         <a aria-current=\"page\" class=\"nav-link active\" href=\"#\">\n",
      "          The Red Planet\n",
      "         </a>\n",
      "        </li>\n",
      "        <li class=\"nav-item\">\n",
      "         <a class=\"nav-link\" href=\"#\">\n",
      "          The Program\n",
      "         </a>\n",
      "        </li>\n",
      "        <li class=\"nav-item\">\n",
      "         <a class=\"nav-link\" href=\"#\">\n",
      "          News &amp; Events\n",
      "         </a>\n",
      "        </li>\n",
      "        <li class=\"nav-item\">\n",
      "         <a class=\"nav-link\" href=\"#\">\n",
      "          Multimedia\n",
      "         </a>\n",
      "        </li>\n",
      "        <li class=\"nav-item\">\n",
      "         <a class=\"nav-link\" href=\"#\">\n",
      "          Missions\n",
      "         </a>\n",
      "        </li>\n",
      "        <li class=\"nav-item\">\n",
      "         <a class=\"nav-link\" href=\"#\">\n",
      "          More\n",
      "         </a>\n",
      "        </li>\n",
      "        <li class=\"nav-item nav_search\">\n",
      "         <a class=\"nav-link\" href=\"#\">\n",
      "         </a>\n",
      "        </li>\n",
      "       </ul>\n",
      "      </div>\n",
      "     </div>\n",
      "    </nav>\n",
      "    <section class=\"search\">\n",
      "     <div class=\"container\">\n",
      "      <h1>\n",
      "       News\n",
      "      </h1>\n",
      "      <div class=\"col-md-12 filter\">\n",
      "       <div class=\"row\">\n",
      "        <div class=\"col-md-3 search_binder\">\n",
      "         <input class=\"search_field\" name=\"search\" type=\"text\"/>\n",
      "         <input class=\"search_submit\" name=\"search\" type=\"text\"/>\n",
      "        </div>\n",
      "        <div class=\"col-md-3\">\n",
      "         <select aria-label=\"Default select example\" class=\"form-select\" id=\"year\">\n",
      "          <option selected=\"\">\n",
      "           Latest\n",
      "          </option>\n",
      "         </select>\n",
      "        </div>\n",
      "        <div class=\"col-md-3\">\n",
      "         <select aria-label=\"Default select example\" class=\"form-select\" id=\"cat\">\n",
      "          <option selected=\"\">\n",
      "           All Categories\n",
      "          </option>\n",
      "         </select>\n",
      "        </div>\n",
      "        <div class=\"col-md-3\">\n",
      "        </div>\n",
      "       </div>\n",
      "      </div>\n",
      "     </div>\n",
      "    </section>\n",
      "    <section class=\"image_and_description_container\">\n",
      "     <div class=\"container\" id=\"news\">\n",
      "     </div>\n",
      "     <hr class=\"container\" style=\"margin: 25px auto;width: 83%;\"/>\n",
      "     <button class=\"btn disable\" id=\"more\" onclick=\"populateContent()\">\n",
      "      More\n",
      "     </button>\n",
      "    </section>\n",
      "    <section class=\"last_news\">\n",
      "     <div class=\"container\">\n",
      "      <div class=\"row\">\n",
      "       <div class=\"col-12\">\n",
      "        <h2>\n",
      "         You Might Also Like\n",
      "        </h2>\n",
      "       </div>\n",
      "       <!--  <a class=\" prev\" href=\"#carouselExampleIndicators2\" role=\"button\" data-slide=\"prev\">\r\n",
      "                  <i class=\"fas fa-angle-left\"></i>\r\n",
      "                  </a>\r\n",
      "                  <a class=\" next\" href=\"#carouselExampleIndicators2\" role=\"button\" data-slide=\"next\">\r\n",
      "                  <i class=\"fas fa-angle-right\"></i>\r\n",
      "                  </a> -->\n",
      "       <div class=\"col-12\">\n",
      "        <div class=\"carousel slide\" data-ride=\"carousel\" id=\"carouselExampleIndicators2\">\n",
      "         <div class=\"carousel-inner\">\n",
      "          <div class=\"carousel-item active\">\n",
      "           <div class=\"row\">\n",
      "            <div class=\"col-md-4 mb-3\">\n",
      "             <div class=\"card\">\n",
      "              <img alt=\"100%x280\" class=\"img-fluid\" src=\"https://mars.nasa.gov/system/news_items/main_images/8716_PIA23499-16.jpg\"/>\n",
      "              <div class=\"card-body\">\n",
      "               <p class=\"card-text\">\n",
      "                NASA to Broadcast Mars 2020 Perseverance Launch, Prelaunch Activities\n",
      "               </p>\n",
      "              </div>\n",
      "             </div>\n",
      "            </div>\n",
      "            <div class=\"col-md-4 mb-3\">\n",
      "             <div class=\"card\">\n",
      "              <img alt=\"100%x280\" class=\"img-fluid\" src=\"https://mars.nasa.gov/system/news_items/main_images/8716_PIA23499-16.jpg\"/>\n",
      "              <div class=\"card-body\">\n",
      "               <p class=\"card-text\">\n",
      "                The Launch Is Approaching for NASA's Next Mars Rover, Perseverance\n",
      "               </p>\n",
      "              </div>\n",
      "             </div>\n",
      "            </div>\n",
      "            <div class=\"col-md-4 mb-3\">\n",
      "             <div class=\"card\">\n",
      "              <img alt=\"100%x280\" class=\"img-fluid\" src=\"https://mars.nasa.gov/system/news_items/main_images/8692_PIA23920-web.jpg\"/>\n",
      "              <div class=\"card-body\">\n",
      "               <p class=\"card-text\">\n",
      "                NASA to Hold Mars 2020 Perseverance Rover Launch Briefing\n",
      "               </p>\n",
      "              </div>\n",
      "             </div>\n",
      "            </div>\n",
      "           </div>\n",
      "          </div>\n",
      "          <div class=\"carousel-item\">\n",
      "           <div class=\"row\">\n",
      "            <div class=\"col-md-4 mb-3\">\n",
      "             <div class=\"card\">\n",
      "              <img alt=\"100%x280\" class=\"img-fluid\" src=\"https://images.unsplash.com/photo-1532771098148-525cefe10c23?ixlib=rb-0.3.5&amp;q=80&amp;fm=jpg&amp;crop=entropy&amp;cs=tinysrgb&amp;w=1080&amp;fit=max&amp;ixid=eyJhcHBfaWQiOjMyMDc0fQ&amp;s=3f317c1f7a16116dec454fbc267dd8e4\"/>\n",
      "              <div class=\"card-body\">\n",
      "               <p class=\"card-text\">\n",
      "                With supporting text below as a natural lead-in to additional content.\n",
      "               </p>\n",
      "              </div>\n",
      "             </div>\n",
      "            </div>\n",
      "            <div class=\"col-md-4 mb-3\">\n",
      "             <div class=\"card\">\n",
      "              <img alt=\"100%x280\" class=\"img-fluid\" src=\"https://images.unsplash.com/photo-1532715088550-62f09305f765?ixlib=rb-0.3.5&amp;q=80&amp;fm=jpg&amp;crop=entropy&amp;cs=tinysrgb&amp;w=1080&amp;fit=max&amp;ixid=eyJhcHBfaWQiOjMyMDc0fQ&amp;s=ebadb044b374504ef8e81bdec4d0e840\"/>\n",
      "              <div class=\"card-body\">\n",
      "               <p class=\"card-text\">\n",
      "                With supporting text below as a natural lead-in to additional content.\n",
      "               </p>\n",
      "              </div>\n",
      "             </div>\n",
      "            </div>\n",
      "            <div class=\"col-md-4 mb-3\">\n",
      "             <div class=\"card\">\n",
      "              <img alt=\"100%x280\" class=\"img-fluid\" src=\"https://images.unsplash.com/photo-1506197603052-3cc9c3a201bd?ixlib=rb-0.3.5&amp;q=80&amp;fm=jpg&amp;crop=entropy&amp;cs=tinysrgb&amp;w=1080&amp;fit=max&amp;ixid=eyJhcHBfaWQiOjMyMDc0fQ&amp;s=0754ab085804ae8a3b562548e6b4aa2e\"/>\n",
      "              <div class=\"card-body\">\n",
      "               <p class=\"card-text\">\n",
      "                With supporting text below as a natural lead-in to additional content.\n",
      "               </p>\n",
      "              </div>\n",
      "             </div>\n",
      "            </div>\n",
      "           </div>\n",
      "          </div>\n",
      "          <div class=\"carousel-item\">\n",
      "           <div class=\"row\">\n",
      "            <div class=\"col-md-4 mb-3\">\n",
      "             <div class=\"card\">\n",
      "              <img alt=\"100%x280\" class=\"img-fluid\" src=\"https://images.unsplash.com/photo-1507525428034-b723cf961d3e?ixlib=rb-0.3.5&amp;q=80&amp;fm=jpg&amp;crop=entropy&amp;cs=tinysrgb&amp;w=1080&amp;fit=max&amp;ixid=eyJhcHBfaWQiOjMyMDc0fQ&amp;s=ee8417f0ea2a50d53a12665820b54e23\"/>\n",
      "              <div class=\"card-body\">\n",
      "               <p class=\"card-text\">\n",
      "                With supporting text below as a natural lead-in to additional content.\n",
      "               </p>\n",
      "              </div>\n",
      "             </div>\n",
      "            </div>\n",
      "            <div class=\"col-md-4 mb-3\">\n",
      "             <div class=\"card\">\n",
      "              <img alt=\"100%x280\" class=\"img-fluid\" src=\"https://images.unsplash.com/photo-1532777946373-b6783242f211?ixlib=rb-0.3.5&amp;q=80&amp;fm=jpg&amp;crop=entropy&amp;cs=tinysrgb&amp;w=1080&amp;fit=max&amp;ixid=eyJhcHBfaWQiOjMyMDc0fQ&amp;s=8ac55cf3a68785643998730839663129\"/>\n",
      "              <div class=\"card-body\">\n",
      "               <p class=\"card-text\">\n",
      "                With supporting text below as a natural lead-in to additional content.\n",
      "               </p>\n",
      "              </div>\n",
      "             </div>\n",
      "            </div>\n",
      "            <div class=\"col-md-4 mb-3\">\n",
      "             <div class=\"card\">\n",
      "              <img alt=\"100%x280\" class=\"img-fluid\" src=\"https://images.unsplash.com/photo-1532763303805-529d595877c5?ixlib=rb-0.3.5&amp;q=80&amp;fm=jpg&amp;crop=entropy&amp;cs=tinysrgb&amp;w=1080&amp;fit=max&amp;ixid=eyJhcHBfaWQiOjMyMDc0fQ&amp;s=5ee4fd5d19b40f93eadb21871757eda6\"/>\n",
      "              <div class=\"card-body\">\n",
      "               <p class=\"card-text\">\n",
      "                With supporting text below as a natural lead-in to additional content.\n",
      "               </p>\n",
      "              </div>\n",
      "             </div>\n",
      "            </div>\n",
      "           </div>\n",
      "          </div>\n",
      "         </div>\n",
      "        </div>\n",
      "       </div>\n",
      "      </div>\n",
      "     </div>\n",
      "    </section>\n",
      "    <section class=\"footer\">\n",
      "     <div class=\"container\">\n",
      "      <div class=\"col-md-12\">\n",
      "       <div class=\"row\">\n",
      "        <div class=\"col-md-3\">\n",
      "         <h5>\n",
      "          The Red Planet\n",
      "         </h5>\n",
      "         <ul>\n",
      "          <li>\n",
      "           Dashboard\n",
      "          </li>\n",
      "          <li>\n",
      "           Science Goals\n",
      "          </li>\n",
      "          <li>\n",
      "           The Planet\n",
      "          </li>\n",
      "         </ul>\n",
      "        </div>\n",
      "        <div class=\"col-md-3\">\n",
      "         <h5>\n",
      "          The Program\n",
      "         </h5>\n",
      "         <ul>\n",
      "          <li>\n",
      "           Mission Statement\n",
      "          </li>\n",
      "          <li>\n",
      "           About the Program\n",
      "          </li>\n",
      "          <li>\n",
      "           Organization Why Mars?\n",
      "          </li>\n",
      "         </ul>\n",
      "        </div>\n",
      "        <div class=\"col-md-3\">\n",
      "         <h5>\n",
      "          Multimedia\n",
      "         </h5>\n",
      "         <ul>\n",
      "          <li>\n",
      "           Images\n",
      "          </li>\n",
      "          <li>\n",
      "           Videos\n",
      "          </li>\n",
      "          <li>\n",
      "           More Resources\n",
      "          </li>\n",
      "         </ul>\n",
      "        </div>\n",
      "        <div class=\"col-md-3\">\n",
      "         <h5>\n",
      "          Missions\n",
      "         </h5>\n",
      "         <ul>\n",
      "          <li>\n",
      "           Past\n",
      "          </li>\n",
      "          <li>\n",
      "           Present\n",
      "          </li>\n",
      "          <li>\n",
      "           Future\n",
      "          </li>\n",
      "         </ul>\n",
      "        </div>\n",
      "       </div>\n",
      "      </div>\n",
      "     </div>\n",
      "    </section>\n",
      "    <script src=\"https://code.jquery.com/jquery-1.12.4.min.js\" type=\"text/javascript\">\n",
      "    </script>\n",
      "    <script src=\"https://cdn.jsdelivr.net/npm/@popperjs/core@2.5.4/dist/umd/popper.min.js\">\n",
      "    </script>\n",
      "    <script src=\"https://cdn.jsdelivr.net/npm/bootstrap@5.0.0-beta1/dist/js/bootstrap.min.js\">\n",
      "    </script>\n",
      "    <script src=\"js/app.js\">\n",
      "    </script>\n",
      "   </div>\n",
      "  </div>\n",
      " </body>\n",
      "</html>\n"
     ]
    }
   ],
   "source": [
    "# NASA Mars News\n",
    "# Scrape the Mars News Site, collect latest News Title and Paragraph Text. \n",
    "#soup = BeautifulSoup(page.content, 'html.parser')\n",
    "soup = BeautifulSoup(page.content, 'html.parser')\n",
    "print(soup.prettify())"
   ]
  },
  {
   "cell_type": "code",
   "execution_count": 117,
   "metadata": {},
   "outputs": [],
   "source": [
    "#list(soup.children)"
   ]
  },
  {
   "cell_type": "code",
   "execution_count": 118,
   "metadata": {},
   "outputs": [
    {
     "name": "stdout",
     "output_type": "stream",
     "text": [
      "News - Mars Exploration Program\n"
     ]
    }
   ],
   "source": [
    "title = soup.title.text\n",
    "print(title)"
   ]
  },
  {
   "cell_type": "code",
   "execution_count": 126,
   "metadata": {},
   "outputs": [
    {
     "data": {
      "text/plain": [
       "bs4.BeautifulSoup"
      ]
     },
     "execution_count": 126,
     "metadata": {},
     "output_type": "execute_result"
    }
   ],
   "source": [
    "# body = soup.body.text\n",
    "# body\n",
    "type(soup)\n",
    "soup."
   ]
  },
  {
   "cell_type": "code",
   "execution_count": 122,
   "metadata": {},
   "outputs": [
    {
     "ename": "AttributeError",
     "evalue": "ResultSet object has no attribute 'find'. You're probably treating a list of elements like a single element. Did you call find_all() when you meant to call find()?",
     "output_type": "error",
     "traceback": [
      "\u001b[1;31m---------------------------------------------------------------------------\u001b[0m",
      "\u001b[1;31mAttributeError\u001b[0m                            Traceback (most recent call last)",
      "\u001b[1;32m<ipython-input-122-3e870702df5a>\u001b[0m in \u001b[0;36m<module>\u001b[1;34m\u001b[0m\n\u001b[1;32m----> 1\u001b[1;33m \u001b[0mtitle\u001b[0m \u001b[1;33m=\u001b[0m \u001b[0msoup\u001b[0m\u001b[1;33m.\u001b[0m\u001b[0mfind_all\u001b[0m\u001b[1;33m(\u001b[0m\u001b[1;34m'div'\u001b[0m\u001b[1;33m,\u001b[0m \u001b[0mclass_\u001b[0m\u001b[1;33m=\u001b[0m\u001b[1;34m'content_title'\u001b[0m\u001b[1;33m)\u001b[0m\u001b[1;33m.\u001b[0m\u001b[0mfind\u001b[0m\u001b[1;33m(\u001b[0m\u001b[1;34m'a'\u001b[0m\u001b[1;33m)\u001b[0m\u001b[1;33m.\u001b[0m\u001b[0mtext\u001b[0m\u001b[1;33m\u001b[0m\u001b[1;33m\u001b[0m\u001b[0m\n\u001b[0m",
      "\u001b[1;32m~\\anaconda3\\envs\\PythonData\\lib\\site-packages\\bs4\\element.py\u001b[0m in \u001b[0;36m__getattr__\u001b[1;34m(self, key)\u001b[0m\n\u001b[0;32m   2159\u001b[0m         \u001b[1;34m\"\"\"Raise a helpful exception to explain a common code fix.\"\"\"\u001b[0m\u001b[1;33m\u001b[0m\u001b[1;33m\u001b[0m\u001b[0m\n\u001b[0;32m   2160\u001b[0m         raise AttributeError(\n\u001b[1;32m-> 2161\u001b[1;33m             \u001b[1;34m\"ResultSet object has no attribute '%s'. You're probably treating a list of elements like a single element. Did you call find_all() when you meant to call find()?\"\u001b[0m \u001b[1;33m%\u001b[0m \u001b[0mkey\u001b[0m\u001b[1;33m\u001b[0m\u001b[1;33m\u001b[0m\u001b[0m\n\u001b[0m\u001b[0;32m   2162\u001b[0m         )\n",
      "\u001b[1;31mAttributeError\u001b[0m: ResultSet object has no attribute 'find'. You're probably treating a list of elements like a single element. Did you call find_all() when you meant to call find()?"
     ]
    }
   ],
   "source": [
    "title = soup.find_all('div', class_='content_title').find('a').text"
   ]
  },
  {
   "cell_type": "code",
   "execution_count": 107,
   "metadata": {},
   "outputs": [
    {
     "name": "stdout",
     "output_type": "stream",
     "text": [
      "1\n",
      "None\n"
     ]
    }
   ],
   "source": [
    "results = soup.find_all('section', class_='image_and_description_container')\n",
    "print(len(results))\n",
    "soup.body.section\n",
    "sections = soup.find_all('section', class_='image_and_description_container')\n",
    "\n",
    "for section in sections:\n",
    "    print(section.find('div', class_='article_teaser_body'))"
   ]
  },
  {
   "cell_type": "code",
   "execution_count": 66,
   "metadata": {},
   "outputs": [
    {
     "name": "stdout",
     "output_type": "stream",
     "text": [
      "'NoneType' object has no attribute 'text'\n",
      "'NoneType' object has no attribute 'text'\n",
      "'NoneType' object has no attribute 'text'\n",
      "'NoneType' object has no attribute 'text'\n",
      "'NoneType' object has no attribute 'text'\n",
      "'NoneType' object has no attribute 'text'\n",
      "'NoneType' object has no attribute 'text'\n"
     ]
    }
   ],
   "source": [
    "for result in results:\n",
    "    #print(result)\n",
    "    try:\n",
    "        #title = result.find('div', class_='content_title').text\n",
    "        title = \n",
    "        blurb = soup.find_all('div', class_='article_teaser_body')\n",
    "        \n",
    "        if (title and blurb):\n",
    "            print('------------')\n",
    "            print(title)\n",
    "            print(blurb)\n",
    "    except AttributeError as e:\n",
    "        print(e)"
   ]
  },
  {
   "cell_type": "code",
   "execution_count": null,
   "metadata": {},
   "outputs": [],
   "source": []
  },
  {
   "cell_type": "code",
   "execution_count": null,
   "metadata": {},
   "outputs": [],
   "source": []
  },
  {
   "cell_type": "code",
   "execution_count": null,
   "metadata": {},
   "outputs": [],
   "source": [
    "headlines = []\n",
    "\n",
    "for div in divs:\n",
    "    if (div.)"
   ]
  },
  {
   "cell_type": "code",
   "execution_count": 43,
   "metadata": {},
   "outputs": [
    {
     "data": {
      "text/plain": [
       "1"
      ]
     },
     "execution_count": 43,
     "metadata": {},
     "output_type": "execute_result"
    }
   ],
   "source": [
    "\n",
    "divList = soup.body.find_all('section', class_='image_and_description_container')\n",
    "len(divList)"
   ]
  },
  {
   "cell_type": "code",
   "execution_count": 41,
   "metadata": {},
   "outputs": [],
   "source": [
    "# paragraphs = soup.find_all('section', class_='image_and_description_container')\n",
    "# for paragraph in paragraphs:\n",
    "#     print(paragraph.text)"
   ]
  },
  {
   "cell_type": "code",
   "execution_count": 42,
   "metadata": {},
   "outputs": [],
   "source": [
    "results = soup.find_all('div', class_='list_text')\n",
    "for result in results:\n",
    "    print(result)"
   ]
  },
  {
   "cell_type": "code",
   "execution_count": null,
   "metadata": {},
   "outputs": [],
   "source": [
    "#list(soup.children)\n",
    "print(soup.prettify())"
   ]
  },
  {
   "cell_type": "code",
   "execution_count": null,
   "metadata": {
    "scrolled": true
   },
   "outputs": [],
   "source": [
    "[type(item) for item in list(soup.children)]"
   ]
  },
  {
   "cell_type": "code",
   "execution_count": null,
   "metadata": {},
   "outputs": [],
   "source": [
    "html = list(soup.children)[2]\n",
    "html"
   ]
  },
  {
   "cell_type": "code",
   "execution_count": null,
   "metadata": {},
   "outputs": [],
   "source": [
    "list(html.children)"
   ]
  },
  {
   "cell_type": "code",
   "execution_count": null,
   "metadata": {},
   "outputs": [],
   "source": [
    "body = list(html.children)[3]\n",
    "body"
   ]
  },
  {
   "cell_type": "code",
   "execution_count": null,
   "metadata": {},
   "outputs": [],
   "source": [
    "p = list(body.children)[1]\n",
    "\n",
    "# for kid in p:\n",
    "#     p.get_text()"
   ]
  },
  {
   "cell_type": "code",
   "execution_count": null,
   "metadata": {},
   "outputs": [],
   "source": [
    "p.get_text()"
   ]
  },
  {
   "cell_type": "code",
   "execution_count": null,
   "metadata": {},
   "outputs": [],
   "source": [
    "soup.find_all('p')[0].get_text()"
   ]
  },
  {
   "cell_type": "code",
   "execution_count": null,
   "metadata": {},
   "outputs": [],
   "source": [
    "x = soup.find_all('p')\n",
    "x"
   ]
  },
  {
   "cell_type": "code",
   "execution_count": null,
   "metadata": {},
   "outputs": [],
   "source": []
  },
  {
   "cell_type": "code",
   "execution_count": null,
   "metadata": {},
   "outputs": [],
   "source": []
  },
  {
   "cell_type": "code",
   "execution_count": null,
   "metadata": {},
   "outputs": [],
   "source": [
    "# JPL Mars Space Images - Featured Image"
   ]
  },
  {
   "cell_type": "code",
   "execution_count": null,
   "metadata": {},
   "outputs": [],
   "source": []
  },
  {
   "cell_type": "code",
   "execution_count": null,
   "metadata": {},
   "outputs": [],
   "source": []
  }
 ],
 "metadata": {
  "kernelspec": {
   "display_name": "Python 3",
   "language": "python",
   "name": "python3"
  },
  "language_info": {
   "codemirror_mode": {
    "name": "ipython",
    "version": 3
   },
   "file_extension": ".py",
   "mimetype": "text/x-python",
   "name": "python",
   "nbconvert_exporter": "python",
   "pygments_lexer": "ipython3",
   "version": "3.6.10"
  }
 },
 "nbformat": 4,
 "nbformat_minor": 4
}
