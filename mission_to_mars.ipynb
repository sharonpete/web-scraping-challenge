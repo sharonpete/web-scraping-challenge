{
 "cells": [
  {
   "cell_type": "code",
   "execution_count": null,
   "metadata": {},
   "outputs": [],
   "source": [
    "# import stuff here\n",
    "import requests\n",
    "import pymongo\n",
    "from bs4 import BeautifulSoup\n",
    "from splinter import Browser\n",
    "from webdriver_manager.chrome import ChromeDriverManager\n",
    "import pandas as pd\n"
   ]
  },
  {
   "cell_type": "code",
   "execution_count": null,
   "metadata": {},
   "outputs": [],
   "source": [
    "# Set up splinter\n",
    "executable_path = {'executable_path':ChromeDriverManager().install()}\n",
    "browser = Browser('chrome', **executable_path, headless=False)"
   ]
  },
  {
   "cell_type": "code",
   "execution_count": null,
   "metadata": {},
   "outputs": [],
   "source": [
    "# NASA Mars News ....\n",
    "# Use the splinter browser... this cell took waaayyy longer than it should have.\n",
    "nasa_url = \"https://redplanetscience.com/\"\n",
    "\n",
    "browser.visit(nasa_url)\n",
    "\n",
    "html = browser.html\n",
    "soup = BeautifulSoup(html, 'html.parser')\n",
    "\n",
    "results = soup.find_all('div', class_='list_text')\n",
    "\n",
    "results"
   ]
  },
  {
   "cell_type": "code",
   "execution_count": null,
   "metadata": {},
   "outputs": [],
   "source": [
    "# Initialize PyMongo to work with MongoDBs\n",
    "conn = 'mongodb://localhost:27017'\n",
    "client = pymongo.MongoClient(conn)\n",
    "\n",
    "db = client.nasa_db\n",
    "collection = db.items\n",
    "\n"
   ]
  },
  {
   "cell_type": "code",
   "execution_count": null,
   "metadata": {},
   "outputs": [],
   "source": [
    "# Loop through results and populate Mongo nasa_db\n",
    "for result in results:\n",
    "    try:\n",
    "        title = result.find('div', class_='content_title').text\n",
    "        \n",
    "        blurb = result.find('div', class_='article_teaser_body').text\n",
    "        \n",
    "        print('**************')\n",
    "        print(f'Title: {title}')\n",
    "        print(f'Blurb: {blurb}')\n",
    "        \n",
    "        # gather up the items for mongo db\n",
    "        if (title and blurb):\n",
    "           post = {\n",
    "               'title': title,\n",
    "               'blurb': blurb,\n",
    "            }\n",
    "\n",
    "           collection.insert_one(post)\n",
    "    except Exception as e:\n",
    "        print(e)\n",
    "    "
   ]
  },
  {
   "cell_type": "code",
   "execution_count": null,
   "metadata": {},
   "outputs": [],
   "source": [
    "# JPL Mars Space Images - Featured Image\n",
    "\n",
    "jpl_url = \"https://spaceimages-mars.com/\"\n",
    "\n",
    "browser.visit(jpl_url)\n",
    "\n",
    "html = browser.html\n",
    "jpl_soup = BeautifulSoup(html, 'html.parser')\n",
    "jpl_soup\n"
   ]
  },
  {
   "cell_type": "code",
   "execution_count": null,
   "metadata": {},
   "outputs": [],
   "source": [
    "#jpl_results = jpl_soup.find_all('div', class_='floating_text_area')\n",
    "jpl_results = jpl_soup.find_all('img', class_='headerimage fade-in')\n",
    "\n",
    "featured_image_url = f\"{jpl_url}{jpl_results[0]['src']}\"\n",
    "featured_image_url"
   ]
  },
  {
   "cell_type": "code",
   "execution_count": null,
   "metadata": {},
   "outputs": [],
   "source": [
    "# Mars Facts\n",
    "mars_facts_url = 'https://galaxyfacts-mars.com/'\n",
    "\n",
    "tables = pd.read_html(mars_facts_url)\n",
    "#tables\n",
    "mars_earth_table_df = tables[0]\n",
    "mars_earth_table_df"
   ]
  },
  {
   "cell_type": "code",
   "execution_count": null,
   "metadata": {},
   "outputs": [],
   "source": [
    "mars_profile_table_df = tables[1]"
   ]
  },
  {
   "cell_type": "code",
   "execution_count": null,
   "metadata": {},
   "outputs": [],
   "source": [
    "\n",
    "#\n",
    "me_list = mars_earth_table_df.loc[0]\n",
    "mars_earth_table_df.columns = me_list\n",
    "\n",
    "mars_earth_table_df"
   ]
  },
  {
   "cell_type": "code",
   "execution_count": null,
   "metadata": {},
   "outputs": [],
   "source": [
    "print(mars_earth_table_df.to_html())"
   ]
  },
  {
   "cell_type": "markdown",
   "metadata": {},
   "source": []
  },
  {
   "cell_type": "code",
   "execution_count": null,
   "metadata": {},
   "outputs": [],
   "source": [
    "\n",
    "mars_profile_table_df"
   ]
  },
  {
   "cell_type": "code",
   "execution_count": null,
   "metadata": {},
   "outputs": [],
   "source": [
    "mp_list =[\"Mars Attribute\", \"Measurement\"]\n",
    "mars_profile_table_df.columns = mp_list\n",
    "\n",
    "print(mars_profile_table_df.to_html())"
   ]
  },
  {
   "cell_type": "code",
   "execution_count": null,
   "metadata": {},
   "outputs": [],
   "source": [
    "# Mars Hemispheres  - high resolutions images for each of Mars' hemispheres\n",
    "hemi_base_url = \"https://marshemispheres.com/images/\"\n",
    "\n",
    "# Valles Marineris\n",
    "valles_marineris_url = f'{hemi_base_url}valles_marineris_enhanced.tif'\n",
    "\n",
    "# Cerberus\n",
    "cerberus_url = f'{hemi_base_url}cerberus_enhanced.tif'\n",
    "\n",
    "# Schiaparelli \n",
    "schiaparelli_url = f'{hemi_base_url}schiaparelli_enhanced.tif'\n",
    "\n",
    "# Syrtis Major\n",
    "syrtis_major_url = f'{hemi_base_url}syrtis_major_enhanced.tif'\n"
   ]
  },
  {
   "cell_type": "code",
   "execution_count": null,
   "metadata": {},
   "outputs": [],
   "source": [
    "hemisphere_image_urls = [\n",
    "    {\"title\": \"Valles Marineris Hemisphere\", \"img_url\": valles_marineris_url},\n",
    "    {\"title\": \"Cerberus Hemisphere\", \"img_url\": cerberus_url},\n",
    "    {\"title\": \"Schiaparelli Hemisphere\", \"img_url\": schiaparelli_url},\n",
    "    {\"title\": \"Syrtis Major Hemisphere\", \"img_url\": syrtis_major_url},\n",
    "]\n",
    "\n",
    "hemisphere_image_urls"
   ]
  }
 ],
 "metadata": {
  "kernelspec": {
   "display_name": "Python 3",
   "language": "python",
   "name": "python3"
  },
  "language_info": {
   "codemirror_mode": {
    "name": "ipython",
    "version": 3
   },
   "file_extension": ".py",
   "mimetype": "text/x-python",
   "name": "python",
   "nbconvert_exporter": "python",
   "pygments_lexer": "ipython3",
   "version": "3.6.10"
  }
 },
 "nbformat": 4,
 "nbformat_minor": 4
}
