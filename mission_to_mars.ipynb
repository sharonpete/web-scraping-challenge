{
 "cells": [
  {
   "cell_type": "code",
   "execution_count": 33,
   "metadata": {},
   "outputs": [],
   "source": [
    "# import stuff here\n",
    "import requests\n",
    "import pymongo\n",
    "from bs4 import BeautifulSoup\n",
    "from splinter import Browser\n",
    "from webdriver_manager.chrome import ChromeDriverManager\n",
    "import pandas as pd\n"
   ]
  },
  {
   "cell_type": "code",
   "execution_count": 34,
   "metadata": {},
   "outputs": [
    {
     "name": "stderr",
     "output_type": "stream",
     "text": [
      "[WDM] - ====== WebDriver manager ======\n",
      "[WDM] - Current google-chrome version is 89.0.4389\n",
      "[WDM] - Get LATEST driver version for 89.0.4389\n"
     ]
    },
    {
     "name": "stdout",
     "output_type": "stream",
     "text": [
      "\n",
      "\n"
     ]
    },
    {
     "name": "stderr",
     "output_type": "stream",
     "text": [
      "[WDM] - Get LATEST driver version for 89.0.4389\n",
      "[WDM] - Trying to download new driver from https://chromedriver.storage.googleapis.com/89.0.4389.23/chromedriver_win32.zip\n",
      "[WDM] - Driver has been saved in cache [C:\\Users\\Sharon\\.wdm\\drivers\\chromedriver\\win32\\89.0.4389.23]\n"
     ]
    }
   ],
   "source": [
    "# Set up splinter\n",
    "executable_path = {'executable_path':ChromeDriverManager().install()}\n",
    "browser = Browser('chrome', **executable_path, headless=False)"
   ]
  },
  {
   "cell_type": "code",
   "execution_count": 35,
   "metadata": {},
   "outputs": [],
   "source": [
    "nasa_url = \"https://redplanetscience.com/\""
   ]
  },
  {
   "cell_type": "code",
   "execution_count": 36,
   "metadata": {},
   "outputs": [],
   "source": [
    "browser.visit(nasa_url)"
   ]
  },
  {
   "cell_type": "code",
   "execution_count": 40,
   "metadata": {},
   "outputs": [],
   "source": [
    "html = browser.html\n",
    "soup = BeautifulSoup(html, 'html.parser')\n",
    "#results = soup.find_all('div', class_='content_title')  THIS WORKS\n",
    "results = soup.find_all('div', class_='list_text')\n",
    "\n",
    "#results"
   ]
  },
  {
   "cell_type": "code",
   "execution_count": null,
   "metadata": {},
   "outputs": [],
   "source": [
    "# Initialize PyMongo to work with MongoDBs\n",
    "conn = 'mongodb://localhost:27017'\n",
    "client = pymongo.MongoClient(conn)\n",
    "\n",
    "db = client.nasa_db\n",
    "collection = db.items\n",
    "\n",
    "\n",
    "# gather up the items for mongo db\n",
    "# if (title and blurb):\n",
    "#    post = {\n",
    "#        'title': title,\n",
    "#        'blurb': blurb,\n",
    "#     }\n",
    "\n",
    "#    collection.insert_one(post)"
   ]
  },
  {
   "cell_type": "code",
   "execution_count": 42,
   "metadata": {},
   "outputs": [
    {
     "name": "stdout",
     "output_type": "stream",
     "text": [
      "**************\n",
      "Title: Mars Scientists Investigate Ancient Life in Australia\n",
      "Blurb: Teams with NASA's Mars 2020 and ESA's ExoMars practiced hunting for fossilized microbial life in the Australian Outback in preparation for their Red Planet missions. \n",
      "**************\n",
      "Title: NASA Moves Forward With Campaign to Return Mars Samples to Earth\n",
      "Blurb: During this next phase, the program will mature critical technologies and make critical design decisions as well as assess industry partnerships.\n",
      "**************\n",
      "Title: 3 Things We've Learned From NASA's Mars InSight \n",
      "Blurb: Scientists are finding new mysteries since the geophysics mission landed two years ago.\n",
      "**************\n",
      "Title: Mars Helicopter Attached to NASA's Perseverance Rover\n",
      "Blurb: The team also fueled the rover's sky crane to get ready for this summer's history-making launch.\n",
      "**************\n",
      "Title: NASA Updates Mars 2020 Mission Environmental Review\n",
      "Blurb: NASA and the Department of Energy have completed a more detailed risk analysis for the Mars 2020 rover launch from Florida.\n",
      "**************\n",
      "Title: Follow NASA's Perseverance Rover in Real Time on Its Way to Mars\n",
      "Blurb: A crisply rendered web application can show you where the agency's Mars 2020 mission is right now as it makes its way to the Red Planet for a Feb. 18, 2021, landing.\n",
      "**************\n",
      "Title: NASA's Mars 2020 Comes Full Circle\n",
      "Blurb: Aiming to pinpoint the Martian vehicle's center of gravity, engineers took NASA's 2,300-pound Mars 2020 rover for a spin in the clean room at JPL. \n",
      "**************\n",
      "Title: What's Mars Solar Conjunction, and Why Does It Matter?\n",
      "Blurb: NASA spacecraft at Mars are going to be on their own for a few weeks when the Sun comes between Mars and Earth, interrupting communications.\n",
      "**************\n",
      "Title: NASA's Curiosity Mars Rover Snaps Its Highest-Resolution Panorama Yet\n",
      "Blurb: To go along with the stunning 1.8-billion-pixel image, a new video offers a sweeping view of the Red Planet.\n",
      "**************\n",
      "Title: Alabama High School Student Names NASA's Mars Helicopter\n",
      "Blurb: Vaneeza Rupani's essay was chosen as the name for the small spacecraft, which will mark NASA's first attempt at powered flight on another planet.\n",
      "**************\n",
      "Title: NASA-JPL Names 'Rolling Stones Rock' on Mars\n",
      "Blurb: NASA's Mars InSight mission honored one of the biggest bands of all time at Pasadena concert.\n",
      "**************\n",
      "Title: Nine Finalists Chosen in NASA's Mars 2020 Rover Naming Contest\n",
      "Blurb: Nine finalists have been chosen in the essay contest for K-12 students across U.S. to name NASA's next Mars rover. Now you can help by voting for your favorite. \n",
      "**************\n",
      "Title: NASA's Mars Helicopter Attached to Mars 2020 Rover \n",
      "Blurb: The helicopter will be first aircraft to perform flight tests on another planet.\n",
      "**************\n",
      "Title: While Stargazing on Mars, NASA's Curiosity Rover Spots Earth and Venus\n",
      "Blurb: This new portrait of the Red Planet's neighbors was taken during a time when there's more dust in the air on Mars.\n",
      "**************\n",
      "Title: How NASA's Perseverance Mars Team Adjusted to Work in the Time of Coronavirus \n",
      "Blurb: Like much of the rest of the world, the Mars rover team is pushing forward with its mission-critical work while putting the health and safety of their colleagues and community first.\n"
     ]
    }
   ],
   "source": [
    "for result in results:\n",
    "    try:\n",
    "        title = result.find('div', class_='content_title').text\n",
    "        \n",
    "        blurb = result.find('div', class_='article_teaser_body').text\n",
    "        \n",
    "        print('**************')\n",
    "        print(f'Title: {title}')\n",
    "        print(f'Blurb: {blurb}')\n",
    "        \n",
    "    except Exception as e:\n",
    "        print(e)\n",
    "    "
   ]
  },
  {
   "cell_type": "code",
   "execution_count": 26,
   "metadata": {},
   "outputs": [
    {
     "data": {
      "text/plain": [
       "<Response [200]>"
      ]
     },
     "execution_count": 26,
     "metadata": {},
     "output_type": "execute_result"
    }
   ],
   "source": [
    "# response = requests.get(\"https://redplanetscience.com/\")\n",
    "# response"
   ]
  },
  {
   "cell_type": "code",
   "execution_count": 32,
   "metadata": {},
   "outputs": [],
   "source": [
    "# NASA Mars News\n",
    "# Scrape the Mars News Site, collect latest News Title and Paragraph Text. \n",
    "#soup = BeautifulSoup(page.content, 'html.parser')\n",
    "# soup = BeautifulSoup(response.text, 'lxml')\n",
    "# print(soup.prettify())"
   ]
  },
  {
   "cell_type": "code",
   "execution_count": 31,
   "metadata": {},
   "outputs": [
    {
     "name": "stdout",
     "output_type": "stream",
     "text": [
      "0\n"
     ]
    }
   ],
   "source": [
    "# results = soup.find_all('div', class_='content_title')   #.find('a').text\n",
    "# print(len(results))"
   ]
  },
  {
   "cell_type": "code",
   "execution_count": 107,
   "metadata": {},
   "outputs": [
    {
     "name": "stdout",
     "output_type": "stream",
     "text": [
      "1\n",
      "None\n"
     ]
    }
   ],
   "source": [
    "# results = soup.find_all('section', class_='image_and_description_container')\n",
    "# print(len(results))\n",
    "# soup.body.section\n",
    "# sections = soup.find_all('section', class_='image_and_description_container')\n",
    "\n",
    "# for section in sections:\n",
    "#     print(section.find('div', class_='article_teaser_body'))"
   ]
  },
  {
   "cell_type": "code",
   "execution_count": 66,
   "metadata": {},
   "outputs": [
    {
     "name": "stdout",
     "output_type": "stream",
     "text": [
      "'NoneType' object has no attribute 'text'\n",
      "'NoneType' object has no attribute 'text'\n",
      "'NoneType' object has no attribute 'text'\n",
      "'NoneType' object has no attribute 'text'\n",
      "'NoneType' object has no attribute 'text'\n",
      "'NoneType' object has no attribute 'text'\n",
      "'NoneType' object has no attribute 'text'\n"
     ]
    }
   ],
   "source": [
    "# for result in results:\n",
    "#     #print(result)\n",
    "#     try:\n",
    "#         #title = result.find('div', class_='content_title').text\n",
    "#         title = \n",
    "#         blurb = soup.find_all('div', class_='article_teaser_body')\n",
    "        \n",
    "#         if (title and blurb):\n",
    "#             print('------------')\n",
    "#             print(title)\n",
    "#             print(blurb)\n",
    "#     except AttributeError as e:\n",
    "#         print(e)"
   ]
  },
  {
   "cell_type": "code",
   "execution_count": null,
   "metadata": {},
   "outputs": [],
   "source": []
  },
  {
   "cell_type": "code",
   "execution_count": null,
   "metadata": {},
   "outputs": [],
   "source": []
  },
  {
   "cell_type": "code",
   "execution_count": null,
   "metadata": {},
   "outputs": [],
   "source": [
    "headlines = []\n",
    "\n",
    "for div in divs:\n",
    "    if (div.)"
   ]
  },
  {
   "cell_type": "code",
   "execution_count": 43,
   "metadata": {},
   "outputs": [
    {
     "data": {
      "text/plain": [
       "1"
      ]
     },
     "execution_count": 43,
     "metadata": {},
     "output_type": "execute_result"
    }
   ],
   "source": [
    "\n",
    "divList = soup.body.find_all('section', class_='image_and_description_container')\n",
    "len(divList)"
   ]
  },
  {
   "cell_type": "code",
   "execution_count": 41,
   "metadata": {},
   "outputs": [],
   "source": [
    "# paragraphs = soup.find_all('section', class_='image_and_description_container')\n",
    "# for paragraph in paragraphs:\n",
    "#     print(paragraph.text)"
   ]
  },
  {
   "cell_type": "code",
   "execution_count": 42,
   "metadata": {},
   "outputs": [],
   "source": [
    "results = soup.find_all('div', class_='list_text')\n",
    "for result in results:\n",
    "    print(result)"
   ]
  },
  {
   "cell_type": "code",
   "execution_count": null,
   "metadata": {},
   "outputs": [],
   "source": [
    "#list(soup.children)\n",
    "print(soup.prettify())"
   ]
  },
  {
   "cell_type": "code",
   "execution_count": null,
   "metadata": {
    "scrolled": true
   },
   "outputs": [],
   "source": [
    "[type(item) for item in list(soup.children)]"
   ]
  },
  {
   "cell_type": "code",
   "execution_count": null,
   "metadata": {},
   "outputs": [],
   "source": [
    "html = list(soup.children)[2]\n",
    "html"
   ]
  },
  {
   "cell_type": "code",
   "execution_count": null,
   "metadata": {},
   "outputs": [],
   "source": [
    "list(html.children)"
   ]
  },
  {
   "cell_type": "code",
   "execution_count": null,
   "metadata": {},
   "outputs": [],
   "source": [
    "body = list(html.children)[3]\n",
    "body"
   ]
  },
  {
   "cell_type": "code",
   "execution_count": null,
   "metadata": {},
   "outputs": [],
   "source": [
    "p = list(body.children)[1]\n",
    "\n",
    "# for kid in p:\n",
    "#     p.get_text()"
   ]
  },
  {
   "cell_type": "code",
   "execution_count": null,
   "metadata": {},
   "outputs": [],
   "source": [
    "p.get_text()"
   ]
  },
  {
   "cell_type": "code",
   "execution_count": null,
   "metadata": {},
   "outputs": [],
   "source": [
    "soup.find_all('p')[0].get_text()"
   ]
  },
  {
   "cell_type": "code",
   "execution_count": null,
   "metadata": {},
   "outputs": [],
   "source": [
    "x = soup.find_all('p')\n",
    "x"
   ]
  },
  {
   "cell_type": "code",
   "execution_count": null,
   "metadata": {},
   "outputs": [],
   "source": []
  },
  {
   "cell_type": "code",
   "execution_count": null,
   "metadata": {},
   "outputs": [],
   "source": []
  },
  {
   "cell_type": "code",
   "execution_count": null,
   "metadata": {},
   "outputs": [],
   "source": [
    "# JPL Mars Space Images - Featured Image"
   ]
  },
  {
   "cell_type": "code",
   "execution_count": null,
   "metadata": {},
   "outputs": [],
   "source": []
  },
  {
   "cell_type": "code",
   "execution_count": null,
   "metadata": {},
   "outputs": [],
   "source": []
  }
 ],
 "metadata": {
  "kernelspec": {
   "display_name": "Python 3",
   "language": "python",
   "name": "python3"
  },
  "language_info": {
   "codemirror_mode": {
    "name": "ipython",
    "version": 3
   },
   "file_extension": ".py",
   "mimetype": "text/x-python",
   "name": "python",
   "nbconvert_exporter": "python",
   "pygments_lexer": "ipython3",
   "version": "3.6.10"
  }
 },
 "nbformat": 4,
 "nbformat_minor": 4
}
